{
    "cells": [
        {
            "cell_type": "code",
            "execution_count": null,
            "metadata": {},
            "outputs": [],
            "source": [
                "!pip install splink"
            ]
        },
        {
            "attachments": {},
            "cell_type": "markdown",
            "metadata": {},
            "source": [
                "## Estimating m from a sample of pairwise labels\n",
                "\n",
                "In this example, we estimate the m probabilities of the model from a table containing pairwise record comparisons which we know are 'true' matches.  For example, these may be the result of work by a clerical team who have manually labelled a sample of matches.\n",
                "\n",
                "The table must be in the following format:\n",
                "\n",
                "|source_dataset_l|unique_id_l|source_dataset_r|unique_id_r|\n",
                "|----------------|-----------|----------------|-----------|\n",
                "|df_1            |1          |df_2            |2          |\n",
                "|df_1            |1          |df_2            |3          |\n",
                "\n",
                "It is assumed that every record in the table represents a certain match.\n",
                "\n",
                "Note that the column names above are the defaults.  They should correspond to the values you've set for [`unique_id_column_name`](https://moj-analytical-services.github.io/splink/settings_dict_guide.html#unique_id_column_name) and  [`source_dataset_column_name`](https://moj-analytical-services.github.io/splink/settings_dict_guide.html#source_dataset_column_name), if you've chosen custom values.\n",
                "\n"
            ]
        },
        {
            "cell_type": "code",
            "execution_count": 1,
            "metadata": {},
            "outputs": [
                {
                    "data": {
                        "text/html": [
                            "<div>\n",
                            "<style scoped>\n",
                            "    .dataframe tbody tr th:only-of-type {\n",
                            "        vertical-align: middle;\n",
                            "    }\n",
                            "\n",
                            "    .dataframe tbody tr th {\n",
                            "        vertical-align: top;\n",
                            "    }\n",
                            "\n",
                            "    .dataframe thead th {\n",
                            "        text-align: right;\n",
                            "    }\n",
                            "</style>\n",
                            "<table border=\"1\" class=\"dataframe\">\n",
                            "  <thead>\n",
                            "    <tr style=\"text-align: right;\">\n",
                            "      <th></th>\n",
                            "      <th>unique_id_l</th>\n",
                            "      <th>source_dataset_l</th>\n",
                            "      <th>unique_id_r</th>\n",
                            "      <th>source_dataset_r</th>\n",
                            "      <th>clerical_match_score</th>\n",
                            "    </tr>\n",
                            "  </thead>\n",
                            "  <tbody>\n",
                            "    <tr>\n",
                            "      <th>0</th>\n",
                            "      <td>0</td>\n",
                            "      <td>fake_1000</td>\n",
                            "      <td>1</td>\n",
                            "      <td>fake_1000</td>\n",
                            "      <td>1.0</td>\n",
                            "    </tr>\n",
                            "    <tr>\n",
                            "      <th>1</th>\n",
                            "      <td>0</td>\n",
                            "      <td>fake_1000</td>\n",
                            "      <td>2</td>\n",
                            "      <td>fake_1000</td>\n",
                            "      <td>1.0</td>\n",
                            "    </tr>\n",
                            "    <tr>\n",
                            "      <th>2</th>\n",
                            "      <td>0</td>\n",
                            "      <td>fake_1000</td>\n",
                            "      <td>3</td>\n",
                            "      <td>fake_1000</td>\n",
                            "      <td>1.0</td>\n",
                            "    </tr>\n",
                            "    <tr>\n",
                            "      <th>49</th>\n",
                            "      <td>1</td>\n",
                            "      <td>fake_1000</td>\n",
                            "      <td>2</td>\n",
                            "      <td>fake_1000</td>\n",
                            "      <td>1.0</td>\n",
                            "    </tr>\n",
                            "    <tr>\n",
                            "      <th>50</th>\n",
                            "      <td>1</td>\n",
                            "      <td>fake_1000</td>\n",
                            "      <td>3</td>\n",
                            "      <td>fake_1000</td>\n",
                            "      <td>1.0</td>\n",
                            "    </tr>\n",
                            "    <tr>\n",
                            "      <th>...</th>\n",
                            "      <td>...</td>\n",
                            "      <td>...</td>\n",
                            "      <td>...</td>\n",
                            "      <td>...</td>\n",
                            "      <td>...</td>\n",
                            "    </tr>\n",
                            "    <tr>\n",
                            "      <th>3171</th>\n",
                            "      <td>994</td>\n",
                            "      <td>fake_1000</td>\n",
                            "      <td>996</td>\n",
                            "      <td>fake_1000</td>\n",
                            "      <td>1.0</td>\n",
                            "    </tr>\n",
                            "    <tr>\n",
                            "      <th>3172</th>\n",
                            "      <td>995</td>\n",
                            "      <td>fake_1000</td>\n",
                            "      <td>996</td>\n",
                            "      <td>fake_1000</td>\n",
                            "      <td>1.0</td>\n",
                            "    </tr>\n",
                            "    <tr>\n",
                            "      <th>3173</th>\n",
                            "      <td>997</td>\n",
                            "      <td>fake_1000</td>\n",
                            "      <td>998</td>\n",
                            "      <td>fake_1000</td>\n",
                            "      <td>1.0</td>\n",
                            "    </tr>\n",
                            "    <tr>\n",
                            "      <th>3174</th>\n",
                            "      <td>997</td>\n",
                            "      <td>fake_1000</td>\n",
                            "      <td>999</td>\n",
                            "      <td>fake_1000</td>\n",
                            "      <td>1.0</td>\n",
                            "    </tr>\n",
                            "    <tr>\n",
                            "      <th>3175</th>\n",
                            "      <td>998</td>\n",
                            "      <td>fake_1000</td>\n",
                            "      <td>999</td>\n",
                            "      <td>fake_1000</td>\n",
                            "      <td>1.0</td>\n",
                            "    </tr>\n",
                            "  </tbody>\n",
                            "</table>\n",
                            "<p>2031 rows \u00d7 5 columns</p>\n",
                            "</div>"
                        ],
                        "text/plain": [
                            "      unique_id_l source_dataset_l  unique_id_r source_dataset_r  \\\n",
                            "0               0        fake_1000            1        fake_1000   \n",
                            "1               0        fake_1000            2        fake_1000   \n",
                            "2               0        fake_1000            3        fake_1000   \n",
                            "49              1        fake_1000            2        fake_1000   \n",
                            "50              1        fake_1000            3        fake_1000   \n",
                            "...           ...              ...          ...              ...   \n",
                            "3171          994        fake_1000          996        fake_1000   \n",
                            "3172          995        fake_1000          996        fake_1000   \n",
                            "3173          997        fake_1000          998        fake_1000   \n",
                            "3174          997        fake_1000          999        fake_1000   \n",
                            "3175          998        fake_1000          999        fake_1000   \n",
                            "\n",
                            "      clerical_match_score  \n",
                            "0                      1.0  \n",
                            "1                      1.0  \n",
                            "2                      1.0  \n",
                            "49                     1.0  \n",
                            "50                     1.0  \n",
                            "...                    ...  \n",
                            "3171                   1.0  \n",
                            "3172                   1.0  \n",
                            "3173                   1.0  \n",
                            "3174                   1.0  \n",
                            "3175                   1.0  \n",
                            "\n",
                            "[2031 rows x 5 columns]"
                        ]
                    },
                    "execution_count": 1,
                    "metadata": {},
                    "output_type": "execute_result"
                }
            ],
            "source": [
                "import pandas as pd \n",
                "import altair as alt\n",
                "\n",
                "from splink.datasets import splink_dataset_labels\n",
                "pairwise_labels = splink_dataset_labels.fake_1000_labels\n",
                "\n",
                "# Choose labels indicating a match\n",
                "pairwise_labels = pairwise_labels[pairwise_labels[\"clerical_match_score\"] == 1]\n",
                "pairwise_labels"
            ]
        },
        {
            "attachments": {},
            "cell_type": "markdown",
            "metadata": {},
            "source": [
                "We now proceed to estimate the Fellegi Sunter model:"
            ]
        },
        {
            "cell_type": "code",
            "execution_count": 2,
            "metadata": {},
            "outputs": [
                {
                    "data": {
                        "text/html": [
                            "<div>\n",
                            "<style scoped>\n",
                            "    .dataframe tbody tr th:only-of-type {\n",
                            "        vertical-align: middle;\n",
                            "    }\n",
                            "\n",
                            "    .dataframe tbody tr th {\n",
                            "        vertical-align: top;\n",
                            "    }\n",
                            "\n",
                            "    .dataframe thead th {\n",
                            "        text-align: right;\n",
                            "    }\n",
                            "</style>\n",
                            "<table border=\"1\" class=\"dataframe\">\n",
                            "  <thead>\n",
                            "    <tr style=\"text-align: right;\">\n",
                            "      <th></th>\n",
                            "      <th>unique_id</th>\n",
                            "      <th>first_name</th>\n",
                            "      <th>surname</th>\n",
                            "      <th>dob</th>\n",
                            "      <th>city</th>\n",
                            "      <th>email</th>\n",
                            "      <th>cluster</th>\n",
                            "    </tr>\n",
                            "  </thead>\n",
                            "  <tbody>\n",
                            "    <tr>\n",
                            "      <th>0</th>\n",
                            "      <td>0</td>\n",
                            "      <td>Robert</td>\n",
                            "      <td>Alan</td>\n",
                            "      <td>1971-06-24</td>\n",
                            "      <td>NaN</td>\n",
                            "      <td>robert255@smith.net</td>\n",
                            "      <td>0</td>\n",
                            "    </tr>\n",
                            "    <tr>\n",
                            "      <th>1</th>\n",
                            "      <td>1</td>\n",
                            "      <td>Robert</td>\n",
                            "      <td>Allen</td>\n",
                            "      <td>1971-05-24</td>\n",
                            "      <td>NaN</td>\n",
                            "      <td>roberta25@smith.net</td>\n",
                            "      <td>0</td>\n",
                            "    </tr>\n",
                            "  </tbody>\n",
                            "</table>\n",
                            "</div>"
                        ],
                        "text/plain": [
                            "   unique_id first_name surname         dob city                email  cluster\n",
                            "0          0     Robert    Alan  1971-06-24  NaN  robert255@smith.net        0\n",
                            "1          1     Robert   Allen  1971-05-24  NaN  roberta25@smith.net        0"
                        ]
                    },
                    "execution_count": 2,
                    "metadata": {},
                    "output_type": "execute_result"
                }
            ],
            "source": [
                "from splink.datasets import splink_datasets\n",
                "\n",
                "df = splink_datasets.fake_1000\n",
                "df.head(2)"
            ]
        },
        {
            "cell_type": "code",
            "execution_count": 3,
            "metadata": {},
            "outputs": [],
            "source": [
                "from splink.duckdb.linker import DuckDBLinker\n",
                "from splink.duckdb.blocking_rule_library import block_on\n",
                "import splink.duckdb.comparison_library as cl\n",
                "import splink.duckdb.comparison_template_library as ctl\n",
                "\n",
                "settings = {\n",
                "    \"link_type\": \"dedupe_only\",\n",
                "    \"blocking_rules_to_generate_predictions\": [\n",
                "        block_on(\"first_name\"),\n",
                "        block_on(\"surname\"),\n",
                "    ],\n",
                "    \"comparisons\": [\n",
                "        ctl.name_comparison(\"first_name\"),\n",
                "        ctl.name_comparison(\"surname\"),\n",
                "        ctl.date_comparison(\"dob\", cast_strings_to_date=True),\n",
                "        cl.exact_match(\"city\", term_frequency_adjustments=True),\n",
                "        ctl.email_comparison(\"email\", include_username_fuzzy_level=False),\n",
                "    ],\n",
                "    \"retain_matching_columns\": True,\n",
                "    \"retain_intermediate_calculation_columns\": True,\n",
                "}"
            ]
        },
        {
            "cell_type": "code",
            "execution_count": 4,
            "metadata": {},
            "outputs": [],
            "source": [
                "linker = DuckDBLinker(df, settings, set_up_basic_logging=False)\n",
                "deterministic_rules = [\n",
                "    \"l.first_name = r.first_name and levenshtein(r.dob, l.dob) <= 1\",\n",
                "    \"l.surname = r.surname and levenshtein(r.dob, l.dob) <= 1\",\n",
                "    \"l.first_name = r.first_name and levenshtein(r.surname, l.surname) <= 2\",\n",
                "    \"l.email = r.email\"\n",
                "]\n",
                "\n",
                "linker.estimate_probability_two_random_records_match(deterministic_rules, recall=0.7)\n"
            ]
        },
        {
            "cell_type": "code",
            "execution_count": 5,
            "metadata": {},
            "outputs": [
                {
                    "data": {
                        "application/vnd.jupyter.widget-view+json": {
                            "model_id": "c0d9f69cebb9467f979cb696d4b6adc7",
                            "version_major": 2,
                            "version_minor": 0
                        },
                        "text/plain": [
                            "FloatProgress(value=0.0, layout=Layout(width='auto'), style=ProgressStyle(bar_color='black'))"
                        ]
                    },
                    "metadata": {},
                    "output_type": "display_data"
                }
            ],
            "source": [
                "linker.estimate_u_using_random_sampling(max_pairs=1e6)"
            ]
        },
        {
            "cell_type": "code",
            "execution_count": 6,
            "metadata": {},
            "outputs": [],
            "source": [
                "# Register the pairwise labels table with the database, and then use it to estimate the m values\n",
                "labels_df = linker.register_labels_table(pairwise_labels, overwrite=True)\n",
                "linker.estimate_m_from_pairwise_labels(labels_df)\n",
                "\n",
                "\n",
                "# If the labels table already existing in the dataset you could run\n",
                "# linker.estimate_m_from_pairwise_labels(\"labels_tablename_here\")\n"
            ]
        },
        {
            "cell_type": "code",
            "execution_count": 7,
            "metadata": {},
            "outputs": [
                {
                    "data": {
                        "text/plain": [
                            "<EMTrainingSession, blocking on l.\"first_name\" = r.\"first_name\", deactivating comparisons first_name>"
                        ]
                    },
                    "execution_count": 7,
                    "metadata": {},
                    "output_type": "execute_result"
                }
            ],
            "source": [
                "training_blocking_rule = block_on(\"first_name\")\n",
                "linker.estimate_parameters_using_expectation_maximisation(training_blocking_rule)"
            ]
        },
        {
            "cell_type": "code",
            "execution_count": 8,
            "metadata": {},
            "outputs": [
                {
                    "data": {
                        "text/html": [
                            "\n",
                            "<style>\n",
                            "  #altair-viz-a6b15a9e8ca347399e662b3fe6d57c98.vega-embed {\n",
                            "    width: 100%;\n",
                            "    display: flex;\n",
                            "  }\n",
                            "\n",
                            "  #altair-viz-a6b15a9e8ca347399e662b3fe6d57c98.vega-embed details,\n",
                            "  #altair-viz-a6b15a9e8ca347399e662b3fe6d57c98.vega-embed details summary {\n",
                            "    position: relative;\n",
                            "  }\n",
                            "</style>\n",
                            "<div id=\"altair-viz-a6b15a9e8ca347399e662b3fe6d57c98\"></div>\n",
                            "<script type=\"text/javascript\">\n",
                            "  var VEGA_DEBUG = (typeof VEGA_DEBUG == \"undefined\") ? {} : VEGA_DEBUG;\n",
                            "  (function(spec, embedOpt){\n",
                            "    let outputDiv = document.currentScript.previousElementSibling;\n",
                            "    if (outputDiv.id !== \"altair-viz-a6b15a9e8ca347399e662b3fe6d57c98\") {\n",
                            "      outputDiv = document.getElementById(\"altair-viz-a6b15a9e8ca347399e662b3fe6d57c98\");\n",
                            "    }\n",
                            "    const paths = {\n",
                            "      \"vega\": \"https://cdn.jsdelivr.net/npm/vega@5?noext\",\n",
                            "      \"vega-lib\": \"https://cdn.jsdelivr.net/npm/vega-lib?noext\",\n",
                            "      \"vega-lite\": \"https://cdn.jsdelivr.net/npm/vega-lite@5.8.0?noext\",\n",
                            "      \"vega-embed\": \"https://cdn.jsdelivr.net/npm/vega-embed@6?noext\",\n",
                            "    };\n",
                            "\n",
                            "    function maybeLoadScript(lib, version) {\n",
                            "      var key = `${lib.replace(\"-\", \"\")}_version`;\n",
                            "      return (VEGA_DEBUG[key] == version) ?\n",
                            "        Promise.resolve(paths[lib]) :\n",
                            "        new Promise(function(resolve, reject) {\n",
                            "          var s = document.createElement('script');\n",
                            "          document.getElementsByTagName(\"head\")[0].appendChild(s);\n",
                            "          s.async = true;\n",
                            "          s.onload = () => {\n",
                            "            VEGA_DEBUG[key] = version;\n",
                            "            return resolve(paths[lib]);\n",
                            "          };\n",
                            "          s.onerror = () => reject(`Error loading script: ${paths[lib]}`);\n",
                            "          s.src = paths[lib];\n",
                            "        });\n",
                            "    }\n",
                            "\n",
                            "    function showError(err) {\n",
                            "      outputDiv.innerHTML = `<div class=\"error\" style=\"color:red;\">${err}</div>`;\n",
                            "      throw err;\n",
                            "    }\n",
                            "\n",
                            "    function displayChart(vegaEmbed) {\n",
                            "      vegaEmbed(outputDiv, spec, embedOpt)\n",
                            "        .catch(err => showError(`Javascript Error: ${err.message}<br>This usually means there's a typo in your chart specification. See the javascript console for the full traceback.`));\n",
                            "    }\n",
                            "\n",
                            "    if(typeof define === \"function\" && define.amd) {\n",
                            "      requirejs.config({paths});\n",
                            "      require([\"vega-embed\"], displayChart, err => showError(`Error loading script: ${err.message}`));\n",
                            "    } else {\n",
                            "      maybeLoadScript(\"vega\", \"5\")\n",
                            "        .then(() => maybeLoadScript(\"vega-lite\", \"5.8.0\"))\n",
                            "        .then(() => maybeLoadScript(\"vega-embed\", \"6\"))\n",
                            "        .catch(showError)\n",
                            "        .then(() => displayChart(vegaEmbed));\n",
                            "    }\n",
                            "  })({\"config\": {\"view\": {\"continuousWidth\": 400, \"continuousHeight\": 300}, \"title\": {\"anchor\": \"middle\", \"fontSize\": 18, \"subtitleFontSize\": 14}}, \"data\": {\"name\": \"data-e98a637403be4b36bde1d00004b7a6cb\"}, \"mark\": {\"type\": \"point\", \"filled\": false, \"opacity\": 0.7, \"size\": 100}, \"encoding\": {\"color\": {\"field\": \"estimate_description\", \"type\": \"nominal\"}, \"column\": {\"align\": \"each\", \"field\": \"col_header\", \"header\": {\"labelFontSize\": 14, \"labelFontWeight\": \"bold\"}, \"title\": null, \"type\": \"nominal\"}, \"row\": {\"align\": \"each\", \"field\": \"comparison_name\", \"header\": {\"labelAlign\": \"left\", \"labelAnchor\": \"middle\", \"labelAngle\": 0, \"labelFontSize\": 12, \"labelFontWeight\": \"bold\"}, \"sort\": {\"field\": \"comparison_sort_order\"}, \"title\": null, \"type\": \"nominal\"}, \"shape\": {\"field\": \"estimate_description\", \"scale\": {\"range\": [\"circle\", \"square\", \"triangle\", \"diamond\"]}, \"type\": \"nominal\"}, \"tooltip\": [{\"field\": \"comparison_name\", \"type\": \"nominal\"}, {\"field\": \"estimate_description\", \"type\": \"nominal\"}, {\"field\": \"estimated_probability\", \"type\": \"quantitative\"}], \"x\": {\"axis\": {\"gridColor\": {\"condition\": {\"test\": \"abs(datum.value / 10)  <= 1 & datum.value % 10 === 0\", \"value\": \"#aaa\"}, \"value\": \"#ddd\"}, \"gridDash\": {\"condition\": {\"test\": \"abs(datum.value / 10) == 1\", \"value\": [3]}, \"value\": null}, \"gridWidth\": {\"condition\": {\"test\": \"abs(datum.value / 10)  <= 1 & datum.value % 10 === 0\", \"value\": 2}, \"value\": 1}}, \"field\": \"estimated_probability_as_log_odds\", \"title\": \"Estimated probability as log odds\", \"type\": \"quantitative\"}, \"y\": {\"axis\": {\"grid\": true, \"title\": null}, \"field\": \"comparison_level_label\", \"sort\": {\"field\": \"comparison_vector_value\", \"order\": \"descending\"}, \"type\": \"nominal\"}}, \"params\": [{\"name\": \"mouse_zoom\", \"select\": {\"type\": \"interval\", \"encodings\": [\"x\"]}, \"bind\": \"scales\"}], \"resolve\": {\"scale\": {\"y\": \"independent\"}}, \"title\": {\"text\": \"Comparison of parameter estimates across training sessions\", \"subtitle\": \"Use mousewheel to zoom\"}, \"transform\": [{\"calculate\": \"datum.m_or_u + '-probability (as log odds)'\", \"as\": \"col_header\"}], \"$schema\": \"https://vega.github.io/schema/vega-lite/v5.9.3.json\", \"datasets\": {\"data-e98a637403be4b36bde1d00004b7a6cb\": [{\"m_or_u\": \"m\", \"estimated_probability\": 0.4953998584571833, \"estimate_description\": \"estimate m from pairwise labels\", \"estimated_probability_as_log_odds\": -0.026547154611559317, \"sql_condition\": \"\\\"first_name_l\\\" = \\\"first_name_r\\\"\", \"comparison_level_label\": \"Exact match first_name\", \"comparison_vector_value\": 4, \"comparison_name\": \"first_name\", \"comparison_sort_order\": 0}, {\"m_or_u\": \"m\", \"estimated_probability\": 0.17763623496107572, \"estimate_description\": \"estimate m from pairwise labels\", \"estimated_probability_as_log_odds\": -2.2108507994537567, \"sql_condition\": \"damerau_levenshtein(\\\"first_name_l\\\", \\\"first_name_r\\\") <= 1\", \"comparison_level_label\": \"Damerau_levenshtein <= 1\", \"comparison_vector_value\": 3, \"comparison_name\": \"first_name\", \"comparison_sort_order\": 0}, {\"m_or_u\": \"m\", \"estimated_probability\": 0.03255484784147204, \"estimate_description\": \"estimate m from pairwise labels\", \"estimated_probability_as_log_odds\": -4.893235571549048, \"sql_condition\": \"jaro_winkler_similarity(\\\"first_name_l\\\", \\\"first_name_r\\\") >= 0.9\", \"comparison_level_label\": \"Jaro_winkler_similarity >= 0.9\", \"comparison_vector_value\": 2, \"comparison_name\": \"first_name\", \"comparison_sort_order\": 0}, {\"m_or_u\": \"m\", \"estimated_probability\": 0.06652512384996462, \"estimate_description\": \"estimate m from pairwise labels\", \"estimated_probability_as_log_odds\": -3.810639997573907, \"sql_condition\": \"jaro_winkler_similarity(\\\"first_name_l\\\", \\\"first_name_r\\\") >= 0.8\", \"comparison_level_label\": \"Jaro_winkler_similarity >= 0.8\", \"comparison_vector_value\": 1, \"comparison_name\": \"first_name\", \"comparison_sort_order\": 0}, {\"m_or_u\": \"m\", \"estimated_probability\": 0.2278839348903043, \"estimate_description\": \"estimate m from pairwise labels\", \"estimated_probability_as_log_odds\": -1.7605185082089903, \"sql_condition\": \"ELSE\", \"comparison_level_label\": \"All other comparisons\", \"comparison_vector_value\": 0, \"comparison_name\": \"first_name\", \"comparison_sort_order\": 0}, {\"m_or_u\": \"m\", \"estimated_probability\": 0.4485294117647059, \"estimate_description\": \"estimate m from pairwise labels\", \"estimated_probability_as_log_odds\": -0.2980813529329946, \"sql_condition\": \"\\\"surname_l\\\" = \\\"surname_r\\\"\", \"comparison_level_label\": \"Exact match surname\", \"comparison_vector_value\": 4, \"comparison_name\": \"surname\", \"comparison_sort_order\": 1}, {\"m_or_u\": \"m\", \"estimated_probability\": 0.633165716125171, \"estimate_description\": \"EM, blocked on: l.\\\"first_name\\\" = r.\\\"first_name\\\"\", \"estimated_probability_as_log_odds\": 0.7874546626076275, \"sql_condition\": \"\\\"surname_l\\\" = \\\"surname_r\\\"\", \"comparison_level_label\": \"Exact match surname\", \"comparison_vector_value\": 4, \"comparison_name\": \"surname\", \"comparison_sort_order\": 1}, {\"m_or_u\": \"m\", \"estimated_probability\": 0.2088235294117647, \"estimate_description\": \"estimate m from pairwise labels\", \"estimated_probability_as_log_odds\": -1.921715243051942, \"sql_condition\": \"damerau_levenshtein(\\\"surname_l\\\", \\\"surname_r\\\") <= 1\", \"comparison_level_label\": \"Damerau_levenshtein <= 1\", \"comparison_vector_value\": 3, \"comparison_name\": \"surname\", \"comparison_sort_order\": 1}, {\"m_or_u\": \"m\", \"estimated_probability\": 0.22212378707459643, \"estimate_description\": \"EM, blocked on: l.\\\"first_name\\\" = r.\\\"first_name\\\"\", \"estimated_probability_as_log_odds\": -1.8081766923580307, \"sql_condition\": \"damerau_levenshtein(\\\"surname_l\\\", \\\"surname_r\\\") <= 1\", \"comparison_level_label\": \"Damerau_levenshtein <= 1\", \"comparison_vector_value\": 3, \"comparison_name\": \"surname\", \"comparison_sort_order\": 1}, {\"m_or_u\": \"m\", \"estimated_probability\": 0.047058823529411764, \"estimate_description\": \"estimate m from pairwise labels\", \"estimated_probability_as_log_odds\": -4.339850002884624, \"sql_condition\": \"jaro_winkler_similarity(\\\"surname_l\\\", \\\"surname_r\\\") >= 0.9\", \"comparison_level_label\": \"Jaro_winkler_similarity >= 0.9\", \"comparison_vector_value\": 2, \"comparison_name\": \"surname\", \"comparison_sort_order\": 1}, {\"m_or_u\": \"m\", \"estimated_probability\": 0.053828849278005124, \"estimate_description\": \"EM, blocked on: l.\\\"first_name\\\" = r.\\\"first_name\\\"\", \"estimated_probability_as_log_odds\": -4.135649683256308, \"sql_condition\": \"jaro_winkler_similarity(\\\"surname_l\\\", \\\"surname_r\\\") >= 0.9\", \"comparison_level_label\": \"Jaro_winkler_similarity >= 0.9\", \"comparison_vector_value\": 2, \"comparison_name\": \"surname\", \"comparison_sort_order\": 1}, {\"m_or_u\": \"m\", \"estimated_probability\": 0.05588235294117647, \"estimate_description\": \"estimate m from pairwise labels\", \"estimated_probability_as_log_odds\": -4.078501973678717, \"sql_condition\": \"jaro_winkler_similarity(\\\"surname_l\\\", \\\"surname_r\\\") >= 0.8\", \"comparison_level_label\": \"Jaro_winkler_similarity >= 0.8\", \"comparison_vector_value\": 1, \"comparison_name\": \"surname\", \"comparison_sort_order\": 1}, {\"m_or_u\": \"m\", \"estimated_probability\": 0.053480077135741266, \"estimate_description\": \"EM, blocked on: l.\\\"first_name\\\" = r.\\\"first_name\\\"\", \"estimated_probability_as_log_odds\": -4.145559421492663, \"sql_condition\": \"jaro_winkler_similarity(\\\"surname_l\\\", \\\"surname_r\\\") >= 0.8\", \"comparison_level_label\": \"Jaro_winkler_similarity >= 0.8\", \"comparison_vector_value\": 1, \"comparison_name\": \"surname\", \"comparison_sort_order\": 1}, {\"m_or_u\": \"m\", \"estimated_probability\": 0.23970588235294119, \"estimate_description\": \"estimate m from pairwise labels\", \"estimated_probability_as_log_odds\": -1.6652923160838569, \"sql_condition\": \"ELSE\", \"comparison_level_label\": \"All other comparisons\", \"comparison_vector_value\": 0, \"comparison_name\": \"surname\", \"comparison_sort_order\": 1}, {\"m_or_u\": \"m\", \"estimated_probability\": 0.037401570386486074, \"estimate_description\": \"EM, blocked on: l.\\\"first_name\\\" = r.\\\"first_name\\\"\", \"estimated_probability_as_log_odds\": -4.685763318492582, \"sql_condition\": \"ELSE\", \"comparison_level_label\": \"All other comparisons\", \"comparison_vector_value\": 0, \"comparison_name\": \"surname\", \"comparison_sort_order\": 1}, {\"m_or_u\": \"m\", \"estimated_probability\": 0.42146725750861647, \"estimate_description\": \"estimate m from pairwise labels\", \"estimated_probability_as_log_odds\": -0.4569780550512149, \"sql_condition\": \"\\\"dob_l\\\" = \\\"dob_r\\\"\", \"comparison_level_label\": \"Exact match\", \"comparison_vector_value\": 5, \"comparison_name\": \"dob\", \"comparison_sort_order\": 2}, {\"m_or_u\": \"m\", \"estimated_probability\": 0.40011984056216726, \"estimate_description\": \"EM, blocked on: l.\\\"first_name\\\" = r.\\\"first_name\\\"\", \"estimated_probability_as_log_odds\": -0.5842421475729249, \"sql_condition\": \"\\\"dob_l\\\" = \\\"dob_r\\\"\", \"comparison_level_label\": \"Exact match\", \"comparison_vector_value\": 5, \"comparison_name\": \"dob\", \"comparison_sort_order\": 2}, {\"m_or_u\": \"m\", \"estimated_probability\": 0.08862629246676514, \"estimate_description\": \"estimate m from pairwise labels\", \"estimated_probability_as_log_odds\": -3.3622360835408993, \"sql_condition\": \"damerau_levenshtein(\\\"dob_l\\\", \\\"dob_r\\\") <= 1\", \"comparison_level_label\": \"Damerau_levenshtein <= 1\", \"comparison_vector_value\": 4, \"comparison_name\": \"dob\", \"comparison_sort_order\": 2}, {\"m_or_u\": \"m\", \"estimated_probability\": 0.13058588959393833, \"estimate_description\": \"EM, blocked on: l.\\\"first_name\\\" = r.\\\"first_name\\\"\", \"estimated_probability_as_log_odds\": -2.735044494969094, \"sql_condition\": \"damerau_levenshtein(\\\"dob_l\\\", \\\"dob_r\\\") <= 1\", \"comparison_level_label\": \"Damerau_levenshtein <= 1\", \"comparison_vector_value\": 4, \"comparison_name\": \"dob\", \"comparison_sort_order\": 2}, {\"m_or_u\": \"m\", \"estimated_probability\": 0.11964549483013294, \"estimate_description\": \"estimate m from pairwise labels\", \"estimated_probability_as_log_odds\": -2.879318517577537, \"sql_condition\": \"\\n            abs(date_diff('month',\\n                strptime(\\\"dob_l\\\", '%Y-%m-%d'),\\n                strptime(\\\"dob_r\\\", '%Y-%m-%d'))\\n                ) <= 1\\n        \", \"comparison_level_label\": \"Within 1 month\", \"comparison_vector_value\": 3, \"comparison_name\": \"dob\", \"comparison_sort_order\": 2}, {\"m_or_u\": \"m\", \"estimated_probability\": 0.09820036432156155, \"estimate_description\": \"EM, blocked on: l.\\\"first_name\\\" = r.\\\"first_name\\\"\", \"estimated_probability_as_log_odds\": -3.199006645100702, \"sql_condition\": \"\\n            abs(date_diff('month',\\n                strptime(\\\"dob_l\\\", '%Y-%m-%d'),\\n                strptime(\\\"dob_r\\\", '%Y-%m-%d'))\\n                ) <= 1\\n        \", \"comparison_level_label\": \"Within 1 month\", \"comparison_vector_value\": 3, \"comparison_name\": \"dob\", \"comparison_sort_order\": 2}, {\"m_or_u\": \"m\", \"estimated_probability\": 0.16691285081240767, \"estimate_description\": \"estimate m from pairwise labels\", \"estimated_probability_as_log_odds\": -2.319372389983606, \"sql_condition\": \"\\n            abs(date_diff('year',\\n                strptime(\\\"dob_l\\\", '%Y-%m-%d'),\\n                strptime(\\\"dob_r\\\", '%Y-%m-%d'))\\n                ) <= 1\\n        \", \"comparison_level_label\": \"Within 1 year\", \"comparison_vector_value\": 2, \"comparison_name\": \"dob\", \"comparison_sort_order\": 2}, {\"m_or_u\": \"m\", \"estimated_probability\": 0.1786357973557711, \"estimate_description\": \"EM, blocked on: l.\\\"first_name\\\" = r.\\\"first_name\\\"\", \"estimated_probability_as_log_odds\": -2.2010008566340393, \"sql_condition\": \"\\n            abs(date_diff('year',\\n                strptime(\\\"dob_l\\\", '%Y-%m-%d'),\\n                strptime(\\\"dob_r\\\", '%Y-%m-%d'))\\n                ) <= 1\\n        \", \"comparison_level_label\": \"Within 1 year\", \"comparison_vector_value\": 2, \"comparison_name\": \"dob\", \"comparison_sort_order\": 2}, {\"m_or_u\": \"m\", \"estimated_probability\": 0.1999015263417036, \"estimate_description\": \"estimate m from pairwise labels\", \"estimated_probability_as_log_odds\": -2.0008880856180027, \"sql_condition\": \"\\n            abs(date_diff('year',\\n                strptime(\\\"dob_l\\\", '%Y-%m-%d'),\\n                strptime(\\\"dob_r\\\", '%Y-%m-%d'))\\n                ) <= 10\\n        \", \"comparison_level_label\": \"Within 10 years\", \"comparison_vector_value\": 1, \"comparison_name\": \"dob\", \"comparison_sort_order\": 2}, {\"m_or_u\": \"m\", \"estimated_probability\": 0.1889214282319877, \"estimate_description\": \"EM, blocked on: l.\\\"first_name\\\" = r.\\\"first_name\\\"\", \"estimated_probability_as_log_odds\": -2.1020553323723274, \"sql_condition\": \"\\n            abs(date_diff('year',\\n                strptime(\\\"dob_l\\\", '%Y-%m-%d'),\\n                strptime(\\\"dob_r\\\", '%Y-%m-%d'))\\n                ) <= 10\\n        \", \"comparison_level_label\": \"Within 10 years\", \"comparison_vector_value\": 1, \"comparison_name\": \"dob\", \"comparison_sort_order\": 2}, {\"m_or_u\": \"m\", \"estimated_probability\": 0.0034465780403741997, \"estimate_description\": \"estimate m from pairwise labels\", \"estimated_probability_as_log_odds\": -8.175638652636707, \"sql_condition\": \"ELSE\", \"comparison_level_label\": \"All other comparisons\", \"comparison_vector_value\": 0, \"comparison_name\": \"dob\", \"comparison_sort_order\": 2}, {\"m_or_u\": \"m\", \"estimated_probability\": 0.0035366799345740306, \"estimate_description\": \"EM, blocked on: l.\\\"first_name\\\" = r.\\\"first_name\\\"\", \"estimated_probability_as_log_odds\": -8.138277227317666, \"sql_condition\": \"ELSE\", \"comparison_level_label\": \"All other comparisons\", \"comparison_vector_value\": 0, \"comparison_name\": \"dob\", \"comparison_sort_order\": 2}, {\"m_or_u\": \"m\", \"estimated_probability\": 0.5661492978566149, \"estimate_description\": \"estimate m from pairwise labels\", \"estimated_probability_as_log_odds\": 0.38398388881490503, \"sql_condition\": \"\\\"city_l\\\" = \\\"city_r\\\"\", \"comparison_level_label\": \"Exact match\", \"comparison_vector_value\": 1, \"comparison_name\": \"city\", \"comparison_sort_order\": 3}, {\"m_or_u\": \"m\", \"estimated_probability\": 0.5675991885034555, \"estimate_description\": \"EM, blocked on: l.\\\"first_name\\\" = r.\\\"first_name\\\"\", \"estimated_probability_as_log_odds\": 0.39250329616482066, \"sql_condition\": \"\\\"city_l\\\" = \\\"city_r\\\"\", \"comparison_level_label\": \"Exact match\", \"comparison_vector_value\": 1, \"comparison_name\": \"city\", \"comparison_sort_order\": 3}, {\"m_or_u\": \"m\", \"estimated_probability\": 0.43385070214338506, \"estimate_description\": \"estimate m from pairwise labels\", \"estimated_probability_as_log_odds\": -0.3839838888149049, \"sql_condition\": \"ELSE\", \"comparison_level_label\": \"All other comparisons\", \"comparison_vector_value\": 0, \"comparison_name\": \"city\", \"comparison_sort_order\": 3}, {\"m_or_u\": \"m\", \"estimated_probability\": 0.43240081149654447, \"estimate_description\": \"EM, blocked on: l.\\\"first_name\\\" = r.\\\"first_name\\\"\", \"estimated_probability_as_log_odds\": -0.392503296164821, \"sql_condition\": \"ELSE\", \"comparison_level_label\": \"All other comparisons\", \"comparison_vector_value\": 0, \"comparison_name\": \"city\", \"comparison_sort_order\": 3}, {\"m_or_u\": \"m\", \"estimated_probability\": 0.5340642129992169, \"estimate_description\": \"estimate m from pairwise labels\", \"estimated_probability_as_log_odds\": 0.1968820708288665, \"sql_condition\": \"\\\"email_l\\\" = \\\"email_r\\\"\", \"comparison_level_label\": \"3. Exact match email\", \"comparison_vector_value\": 3, \"comparison_name\": \"email\", \"comparison_sort_order\": 4}, {\"m_or_u\": \"m\", \"estimated_probability\": 0.5830633601996859, \"estimate_description\": \"EM, blocked on: l.\\\"first_name\\\" = r.\\\"first_name\\\"\", \"estimated_probability_as_log_odds\": 0.4838245066982401, \"sql_condition\": \"\\\"email_l\\\" = \\\"email_r\\\"\", \"comparison_level_label\": \"3. Exact match email\", \"comparison_vector_value\": 3, \"comparison_name\": \"email\", \"comparison_sort_order\": 4}, {\"m_or_u\": \"m\", \"estimated_probability\": 0.23492560689115113, \"estimate_description\": \"estimate m from pairwise labels\", \"estimated_probability_as_log_odds\": -1.7033960614725043, \"sql_condition\": \"\\n        regexp_extract(\\\"email_l\\\", '^[^@]+')\\n     = \\n        regexp_extract(\\\"email_r\\\", '^[^@]+')\\n    \", \"comparison_level_label\": \"2. Exact match email\", \"comparison_vector_value\": 2, \"comparison_name\": \"email\", \"comparison_sort_order\": 4}, {\"m_or_u\": \"m\", \"estimated_probability\": 0.21278704596434475, \"estimate_description\": \"EM, blocked on: l.\\\"first_name\\\" = r.\\\"first_name\\\"\", \"estimated_probability_as_log_odds\": -1.887343636018169, \"sql_condition\": \"\\n        regexp_extract(\\\"email_l\\\", '^[^@]+')\\n     = \\n        regexp_extract(\\\"email_r\\\", '^[^@]+')\\n    \", \"comparison_level_label\": \"2. Exact match email\", \"comparison_vector_value\": 2, \"comparison_name\": \"email\", \"comparison_sort_order\": 4}, {\"m_or_u\": \"m\", \"estimated_probability\": 0.22239624119028975, \"estimate_description\": \"estimate m from pairwise labels\", \"estimated_probability_as_log_odds\": -1.8059027880236918, \"sql_condition\": \"jaro_winkler_similarity(\\\"email_l\\\", \\\"email_r\\\") >= 0.88\", \"comparison_level_label\": \"1. Jaro_winkler_similarity email >= 0.88\", \"comparison_vector_value\": 1, \"comparison_name\": \"email\", \"comparison_sort_order\": 4}, {\"m_or_u\": \"m\", \"estimated_probability\": 0.19438760049267717, \"estimate_description\": \"EM, blocked on: l.\\\"first_name\\\" = r.\\\"first_name\\\"\", \"estimated_probability_as_log_odds\": -2.051149692712913, \"sql_condition\": \"jaro_winkler_similarity(\\\"email_l\\\", \\\"email_r\\\") >= 0.88\", \"comparison_level_label\": \"1. Jaro_winkler_similarity email >= 0.88\", \"comparison_vector_value\": 1, \"comparison_name\": \"email\", \"comparison_sort_order\": 4}, {\"m_or_u\": \"m\", \"estimated_probability\": 0.008613938919342208, \"estimate_description\": \"estimate m from pairwise labels\", \"estimated_probability_as_log_odds\": -6.846630070791044, \"sql_condition\": \"ELSE\", \"comparison_level_label\": \"0. All other comparisons\", \"comparison_vector_value\": 0, \"comparison_name\": \"email\", \"comparison_sort_order\": 4}, {\"m_or_u\": \"m\", \"estimated_probability\": 0.009761993343292133, \"estimate_description\": \"EM, blocked on: l.\\\"first_name\\\" = r.\\\"first_name\\\"\", \"estimated_probability_as_log_odds\": -6.664455744741691, \"sql_condition\": \"ELSE\", \"comparison_level_label\": \"0. All other comparisons\", \"comparison_vector_value\": 0, \"comparison_name\": \"email\", \"comparison_sort_order\": 4}]}}, {\"mode\": \"vega-lite\"});\n",
                            "</script>"
                        ],
                        "text/plain": [
                            "alt.Chart(...)"
                        ]
                    },
                    "execution_count": 8,
                    "metadata": {},
                    "output_type": "execute_result"
                }
            ],
            "source": [
                "linker.parameter_estimate_comparisons_chart()"
            ]
        },
        {
            "cell_type": "code",
            "execution_count": 9,
            "metadata": {},
            "outputs": [
                {
                    "data": {
                        "text/html": [
                            "\n",
                            "<style>\n",
                            "  #altair-viz-741f571ceecd463ca30ca9060f73736b.vega-embed {\n",
                            "    width: 100%;\n",
                            "    display: flex;\n",
                            "  }\n",
                            "\n",
                            "  #altair-viz-741f571ceecd463ca30ca9060f73736b.vega-embed details,\n",
                            "  #altair-viz-741f571ceecd463ca30ca9060f73736b.vega-embed details summary {\n",
                            "    position: relative;\n",
                            "  }\n",
                            "</style>\n",
                            "<div id=\"altair-viz-741f571ceecd463ca30ca9060f73736b\"></div>\n",
                            "<script type=\"text/javascript\">\n",
                            "  var VEGA_DEBUG = (typeof VEGA_DEBUG == \"undefined\") ? {} : VEGA_DEBUG;\n",
                            "  (function(spec, embedOpt){\n",
                            "    let outputDiv = document.currentScript.previousElementSibling;\n",
                            "    if (outputDiv.id !== \"altair-viz-741f571ceecd463ca30ca9060f73736b\") {\n",
                            "      outputDiv = document.getElementById(\"altair-viz-741f571ceecd463ca30ca9060f73736b\");\n",
                            "    }\n",
                            "    const paths = {\n",
                            "      \"vega\": \"https://cdn.jsdelivr.net/npm/vega@5?noext\",\n",
                            "      \"vega-lib\": \"https://cdn.jsdelivr.net/npm/vega-lib?noext\",\n",
                            "      \"vega-lite\": \"https://cdn.jsdelivr.net/npm/vega-lite@5.8.0?noext\",\n",
                            "      \"vega-embed\": \"https://cdn.jsdelivr.net/npm/vega-embed@6?noext\",\n",
                            "    };\n",
                            "\n",
                            "    function maybeLoadScript(lib, version) {\n",
                            "      var key = `${lib.replace(\"-\", \"\")}_version`;\n",
                            "      return (VEGA_DEBUG[key] == version) ?\n",
                            "        Promise.resolve(paths[lib]) :\n",
                            "        new Promise(function(resolve, reject) {\n",
                            "          var s = document.createElement('script');\n",
                            "          document.getElementsByTagName(\"head\")[0].appendChild(s);\n",
                            "          s.async = true;\n",
                            "          s.onload = () => {\n",
                            "            VEGA_DEBUG[key] = version;\n",
                            "            return resolve(paths[lib]);\n",
                            "          };\n",
                            "          s.onerror = () => reject(`Error loading script: ${paths[lib]}`);\n",
                            "          s.src = paths[lib];\n",
                            "        });\n",
                            "    }\n",
                            "\n",
                            "    function showError(err) {\n",
                            "      outputDiv.innerHTML = `<div class=\"error\" style=\"color:red;\">${err}</div>`;\n",
                            "      throw err;\n",
                            "    }\n",
                            "\n",
                            "    function displayChart(vegaEmbed) {\n",
                            "      vegaEmbed(outputDiv, spec, embedOpt)\n",
                            "        .catch(err => showError(`Javascript Error: ${err.message}<br>This usually means there's a typo in your chart specification. See the javascript console for the full traceback.`));\n",
                            "    }\n",
                            "\n",
                            "    if(typeof define === \"function\" && define.amd) {\n",
                            "      requirejs.config({paths});\n",
                            "      require([\"vega-embed\"], displayChart, err => showError(`Error loading script: ${err.message}`));\n",
                            "    } else {\n",
                            "      maybeLoadScript(\"vega\", \"5\")\n",
                            "        .then(() => maybeLoadScript(\"vega-lite\", \"5.8.0\"))\n",
                            "        .then(() => maybeLoadScript(\"vega-embed\", \"6\"))\n",
                            "        .catch(showError)\n",
                            "        .then(() => displayChart(vegaEmbed));\n",
                            "    }\n",
                            "  })({\"config\": {\"view\": {\"continuousWidth\": 300, \"continuousHeight\": 300, \"discreteHeight\": 60, \"discreteWidth\": 400}, \"header\": {\"title\": null}, \"mark\": {\"tooltip\": null}, \"title\": {\"anchor\": \"middle\"}}, \"vconcat\": [{\"mark\": {\"type\": \"bar\", \"clip\": true, \"height\": 15}, \"encoding\": {\"color\": {\"field\": \"log2_bayes_factor\", \"scale\": {\"domain\": [-10, 0, 10], \"interpolate\": \"lab\", \"range\": [\"red\", \"#bbbbbb\", \"green\"]}, \"title\": \"Match weight\", \"type\": \"quantitative\"}, \"tooltip\": [{\"field\": \"comparison_name\", \"title\": \"Comparison name\", \"type\": \"nominal\"}, {\"field\": \"probability_two_random_records_match\", \"format\": \".4f\", \"title\": \"Probability two random records match\", \"type\": \"nominal\"}, {\"field\": \"log2_bayes_factor\", \"format\": \",.4f\", \"title\": \"Equivalent match weight\", \"type\": \"quantitative\"}, {\"field\": \"bayes_factor_description\", \"title\": \"Match weight description\", \"type\": \"nominal\"}], \"x\": {\"axis\": {\"domain\": false, \"gridColor\": {\"condition\": {\"test\": \"abs(datum.value / 10)  <= 1 & datum.value % 10 === 0\", \"value\": \"#aaa\"}, \"value\": \"#ddd\"}, \"gridDash\": {\"condition\": {\"test\": \"abs(datum.value / 10) == 1\", \"value\": [3]}, \"value\": null}, \"gridWidth\": {\"condition\": {\"test\": \"abs(datum.value / 10)  <= 1 & datum.value % 10 === 0\", \"value\": 2}, \"value\": 1}, \"labels\": false, \"ticks\": false, \"title\": \"\"}, \"field\": \"log2_bayes_factor\", \"scale\": {\"domain\": [-9, 9]}, \"type\": \"quantitative\"}, \"y\": {\"axis\": {\"title\": \"Prior (starting) match weight\", \"titleAlign\": \"right\", \"titleAngle\": 0, \"titleFontWeight\": \"normal\"}, \"field\": \"label_for_charts\", \"sort\": {\"field\": \"comparison_vector_value\", \"order\": \"descending\"}, \"type\": \"nominal\"}}, \"height\": 20, \"transform\": [{\"filter\": \"(datum.comparison_name == 'probability_two_random_records_match')\"}]}, {\"mark\": {\"type\": \"bar\", \"clip\": true}, \"encoding\": {\"color\": {\"field\": \"log2_bayes_factor\", \"scale\": {\"domain\": [-10, 0, 10], \"interpolate\": \"lab\", \"range\": [\"red\", \"#bbbbbb\", \"green\"]}, \"title\": \"Match weight\", \"type\": \"quantitative\"}, \"row\": {\"field\": \"comparison_name\", \"header\": {\"labelAlign\": \"left\", \"labelAnchor\": \"middle\", \"labelAngle\": 0}, \"sort\": {\"field\": \"comparison_sort_order\"}, \"type\": \"nominal\"}, \"tooltip\": [{\"field\": \"comparison_name\", \"title\": \"Comparison name\", \"type\": \"nominal\"}, {\"field\": \"label_for_charts\", \"title\": \"Label\", \"type\": \"ordinal\"}, {\"field\": \"sql_condition\", \"title\": \"SQL condition\", \"type\": \"nominal\"}, {\"field\": \"m_probability\", \"format\": \".4f\", \"title\": \"M probability\", \"type\": \"quantitative\"}, {\"field\": \"u_probability\", \"format\": \".4f\", \"title\": \"U probability\", \"type\": \"quantitative\"}, {\"field\": \"bayes_factor\", \"format\": \",.4f\", \"title\": \"Bayes factor = m/u\", \"type\": \"quantitative\"}, {\"field\": \"log2_bayes_factor\", \"format\": \",.4f\", \"title\": \"Match weight = log2(m/u)\", \"type\": \"quantitative\"}, {\"field\": \"bayes_factor_description\", \"title\": \"Match weight description\", \"type\": \"nominal\"}], \"x\": {\"axis\": {\"gridColor\": {\"condition\": {\"test\": \"abs(datum.value / 10)  <= 1 & datum.value % 10 === 0\", \"value\": \"#aaa\"}, \"value\": \"#ddd\"}, \"gridDash\": {\"condition\": {\"test\": \"abs(datum.value / 10) == 1\", \"value\": [3]}, \"value\": null}, \"gridWidth\": {\"condition\": {\"test\": \"abs(datum.value / 10)  <= 1 & datum.value % 10 === 0\", \"value\": 2}, \"value\": 1}, \"title\": \"Comparison level match weight = log2(m/u)\"}, \"field\": \"log2_bayes_factor\", \"scale\": {\"domain\": [-9, 9]}, \"type\": \"quantitative\"}, \"y\": {\"axis\": {\"title\": null}, \"field\": \"label_for_charts\", \"sort\": {\"field\": \"comparison_vector_value\", \"order\": \"descending\"}, \"type\": \"nominal\"}}, \"height\": {\"step\": 12}, \"resolve\": {\"axis\": {\"y\": \"independent\"}, \"scale\": {\"y\": \"independent\"}}, \"transform\": [{\"filter\": \"(datum.comparison_name != 'probability_two_random_records_match')\"}]}], \"data\": {\"name\": \"data-72f5b9749e2b699c06e0ea8065606242\"}, \"params\": [{\"name\": \"mouse_zoom\", \"select\": {\"type\": \"interval\", \"encodings\": [\"x\"]}, \"bind\": \"scales\", \"views\": []}], \"resolve\": {\"axis\": {\"y\": \"independent\"}, \"scale\": {\"y\": \"independent\"}}, \"title\": {\"text\": \"Model parameters (components of final match weight)\", \"subtitle\": \"Use mousewheel to zoom\"}, \"$schema\": \"https://vega.github.io/schema/vega-lite/v5.9.3.json\", \"datasets\": {\"data-72f5b9749e2b699c06e0ea8065606242\": [{\"comparison_name\": \"probability_two_random_records_match\", \"sql_condition\": null, \"label_for_charts\": \"\", \"m_probability\": null, \"u_probability\": null, \"m_probability_description\": null, \"u_probability_description\": null, \"has_tf_adjustments\": false, \"tf_adjustment_column\": null, \"tf_adjustment_weight\": null, \"is_null_level\": false, \"bayes_factor\": 0.0033430420247643373, \"log2_bayes_factor\": -8.224622793739668, \"comparison_vector_value\": 0, \"max_comparison_vector_value\": 0, \"bayes_factor_description\": \"The probability that two random records drawn at random match is 0.003 or one in  300.1 records.This is equivalent to a starting match weight of -8.225.\", \"probability_two_random_records_match\": 0.0033319033319033323, \"comparison_sort_order\": -1}, {\"comparison_name\": \"first_name\", \"sql_condition\": \"\\\"first_name_l\\\" = \\\"first_name_r\\\"\", \"label_for_charts\": \"Exact match first_name\", \"m_probability\": 0.4953998584571833, \"u_probability\": 0.0057935713975033705, \"m_probability_description\": \"Amongst matching record comparisons, 49.54% of records are in the exact match first_name comparison level\", \"u_probability_description\": \"Amongst non-matching record comparisons, 0.58% of records are in the exact match first_name comparison level\", \"has_tf_adjustments\": false, \"tf_adjustment_column\": null, \"tf_adjustment_weight\": 1.0, \"is_null_level\": false, \"bayes_factor\": 85.50854463805632, \"log2_bayes_factor\": 6.417996686710603, \"comparison_vector_value\": 4, \"max_comparison_vector_value\": 4, \"bayes_factor_description\": \"If comparison level is `exact match first_name` then comparison is 85.51 times more likely to be a match\", \"probability_two_random_records_match\": 0.0033319033319033323, \"comparison_sort_order\": 0}, {\"comparison_name\": \"first_name\", \"sql_condition\": \"damerau_levenshtein(\\\"first_name_l\\\", \\\"first_name_r\\\") <= 1\", \"label_for_charts\": \"Damerau_levenshtein <= 1\", \"m_probability\": 0.17763623496107572, \"u_probability\": 0.00236614327345483, \"m_probability_description\": \"Amongst matching record comparisons, 17.76% of records are in the damerau_levenshtein <= 1 comparison level\", \"u_probability_description\": \"Amongst non-matching record comparisons, 0.24% of records are in the damerau_levenshtein <= 1 comparison level\", \"has_tf_adjustments\": false, \"tf_adjustment_column\": null, \"tf_adjustment_weight\": 1.0, \"is_null_level\": false, \"bayes_factor\": 75.07416687481786, \"log2_bayes_factor\": 6.230244654649969, \"comparison_vector_value\": 3, \"max_comparison_vector_value\": 4, \"bayes_factor_description\": \"If comparison level is `damerau_levenshtein <= 1` then comparison is 75.07 times more likely to be a match\", \"probability_two_random_records_match\": 0.0033319033319033323, \"comparison_sort_order\": 0}, {\"comparison_name\": \"first_name\", \"sql_condition\": \"jaro_winkler_similarity(\\\"first_name_l\\\", \\\"first_name_r\\\") >= 0.9\", \"label_for_charts\": \"Jaro_winkler_similarity >= 0.9\", \"m_probability\": 0.03255484784147204, \"u_probability\": 0.001296159366708712, \"m_probability_description\": \"Amongst matching record comparisons, 3.26% of records are in the jaro_winkler_similarity >= 0.9 comparison level\", \"u_probability_description\": \"Amongst non-matching record comparisons, 0.13% of records are in the jaro_winkler_similarity >= 0.9 comparison level\", \"has_tf_adjustments\": false, \"tf_adjustment_column\": null, \"tf_adjustment_weight\": 1.0, \"is_null_level\": false, \"bayes_factor\": 25.116392843063213, \"log2_bayes_factor\": 4.650557377544387, \"comparison_vector_value\": 2, \"max_comparison_vector_value\": 4, \"bayes_factor_description\": \"If comparison level is `jaro_winkler_similarity >= 0.9` then comparison is 25.12 times more likely to be a match\", \"probability_two_random_records_match\": 0.0033319033319033323, \"comparison_sort_order\": 0}, {\"comparison_name\": \"first_name\", \"sql_condition\": \"jaro_winkler_similarity(\\\"first_name_l\\\", \\\"first_name_r\\\") >= 0.8\", \"label_for_charts\": \"Jaro_winkler_similarity >= 0.8\", \"m_probability\": 0.06652512384996462, \"u_probability\": 0.005677583982137938, \"m_probability_description\": \"Amongst matching record comparisons, 6.65% of records are in the jaro_winkler_similarity >= 0.8 comparison level\", \"u_probability_description\": \"Amongst non-matching record comparisons, 0.57% of records are in the jaro_winkler_similarity >= 0.8 comparison level\", \"has_tf_adjustments\": false, \"tf_adjustment_column\": null, \"tf_adjustment_weight\": 1.0, \"is_null_level\": false, \"bayes_factor\": 11.71715364479982, \"log2_bayes_factor\": 3.5505502447446347, \"comparison_vector_value\": 1, \"max_comparison_vector_value\": 4, \"bayes_factor_description\": \"If comparison level is `jaro_winkler_similarity >= 0.8` then comparison is 11.72 times more likely to be a match\", \"probability_two_random_records_match\": 0.0033319033319033323, \"comparison_sort_order\": 0}, {\"comparison_name\": \"first_name\", \"sql_condition\": \"ELSE\", \"label_for_charts\": \"All other comparisons\", \"m_probability\": 0.2278839348903043, \"u_probability\": 0.9848665419801952, \"m_probability_description\": \"Amongst matching record comparisons, 22.79% of records are in the all other comparisons comparison level\", \"u_probability_description\": \"Amongst non-matching record comparisons, 98.49% of records are in the all other comparisons comparison level\", \"has_tf_adjustments\": false, \"tf_adjustment_column\": null, \"tf_adjustment_weight\": 1.0, \"is_null_level\": false, \"bayes_factor\": 0.2313855991412965, \"log2_bayes_factor\": -2.111629017364808, \"comparison_vector_value\": 0, \"max_comparison_vector_value\": 4, \"bayes_factor_description\": \"If comparison level is `all other comparisons` then comparison is  4.32 times less likely to be a match\", \"probability_two_random_records_match\": 0.0033319033319033323, \"comparison_sort_order\": 0}, {\"comparison_name\": \"surname\", \"sql_condition\": \"\\\"surname_l\\\" = \\\"surname_r\\\"\", \"label_for_charts\": \"Exact match surname\", \"m_probability\": 0.5408475639449385, \"u_probability\": 0.004889975550122249, \"m_probability_description\": \"Amongst matching record comparisons, 54.08% of records are in the exact match surname comparison level\", \"u_probability_description\": \"Amongst non-matching record comparisons, 0.49% of records are in the exact match surname comparison level\", \"has_tf_adjustments\": false, \"tf_adjustment_column\": null, \"tf_adjustment_weight\": 1.0, \"is_null_level\": false, \"bayes_factor\": 110.60332682673992, \"log2_bayes_factor\": 6.789250970684194, \"comparison_vector_value\": 4, \"max_comparison_vector_value\": 4, \"bayes_factor_description\": \"If comparison level is `exact match surname` then comparison is 110.60 times more likely to be a match\", \"probability_two_random_records_match\": 0.0033319033319033323, \"comparison_sort_order\": 1}, {\"comparison_name\": \"surname\", \"sql_condition\": \"damerau_levenshtein(\\\"surname_l\\\", \\\"surname_r\\\") <= 1\", \"label_for_charts\": \"Damerau_levenshtein <= 1\", \"m_probability\": 0.21547365824318057, \"u_probability\": 0.0027554624131641246, \"m_probability_description\": \"Amongst matching record comparisons, 21.55% of records are in the damerau_levenshtein <= 1 comparison level\", \"u_probability_description\": \"Amongst non-matching record comparisons, 0.28% of records are in the damerau_levenshtein <= 1 comparison level\", \"has_tf_adjustments\": false, \"tf_adjustment_column\": null, \"tf_adjustment_weight\": 1.0, \"is_null_level\": false, \"bayes_factor\": 78.19872890073287, \"log2_bayes_factor\": 6.289073251991433, \"comparison_vector_value\": 3, \"max_comparison_vector_value\": 4, \"bayes_factor_description\": \"If comparison level is `damerau_levenshtein <= 1` then comparison is 78.20 times more likely to be a match\", \"probability_two_random_records_match\": 0.0033319033319033323, \"comparison_sort_order\": 1}, {\"comparison_name\": \"surname\", \"sql_condition\": \"jaro_winkler_similarity(\\\"surname_l\\\", \\\"surname_r\\\") >= 0.9\", \"label_for_charts\": \"Jaro_winkler_similarity >= 0.9\", \"m_probability\": 0.05044383640370845, \"u_probability\": 0.0010090425738347498, \"m_probability_description\": \"Amongst matching record comparisons, 5.04% of records are in the jaro_winkler_similarity >= 0.9 comparison level\", \"u_probability_description\": \"Amongst non-matching record comparisons, 0.10% of records are in the jaro_winkler_similarity >= 0.9 comparison level\", \"has_tf_adjustments\": false, \"tf_adjustment_column\": null, \"tf_adjustment_weight\": 1.0, \"is_null_level\": false, \"bayes_factor\": 49.991782023629064, \"log2_bayes_factor\": 5.643619049610939, \"comparison_vector_value\": 2, \"max_comparison_vector_value\": 4, \"bayes_factor_description\": \"If comparison level is `jaro_winkler_similarity >= 0.9` then comparison is 49.99 times more likely to be a match\", \"probability_two_random_records_match\": 0.0033319033319033323, \"comparison_sort_order\": 1}, {\"comparison_name\": \"surname\", \"sql_condition\": \"jaro_winkler_similarity(\\\"surname_l\\\", \\\"surname_r\\\") >= 0.8\", \"label_for_charts\": \"Jaro_winkler_similarity >= 0.8\", \"m_probability\": 0.054681215038458866, \"u_probability\": 0.003710768991942586, \"m_probability_description\": \"Amongst matching record comparisons, 5.47% of records are in the jaro_winkler_similarity >= 0.8 comparison level\", \"u_probability_description\": \"Amongst non-matching record comparisons, 0.37% of records are in the jaro_winkler_similarity >= 0.8 comparison level\", \"has_tf_adjustments\": false, \"tf_adjustment_column\": null, \"tf_adjustment_weight\": 1.0, \"is_null_level\": false, \"bayes_factor\": 14.73581760470443, \"log2_bayes_factor\": 3.8812552043162647, \"comparison_vector_value\": 1, \"max_comparison_vector_value\": 4, \"bayes_factor_description\": \"If comparison level is `jaro_winkler_similarity >= 0.8` then comparison is 14.74 times more likely to be a match\", \"probability_two_random_records_match\": 0.0033319033319033323, \"comparison_sort_order\": 1}, {\"comparison_name\": \"surname\", \"sql_condition\": \"ELSE\", \"label_for_charts\": \"All other comparisons\", \"m_probability\": 0.13855372636971364, \"u_probability\": 0.9876347504709363, \"m_probability_description\": \"Amongst matching record comparisons, 13.86% of records are in the all other comparisons comparison level\", \"u_probability_description\": \"Amongst non-matching record comparisons, 98.76% of records are in the all other comparisons comparison level\", \"has_tf_adjustments\": false, \"tf_adjustment_column\": null, \"tf_adjustment_weight\": 1.0, \"is_null_level\": false, \"bayes_factor\": 0.14028842778531914, \"log2_bayes_factor\": -2.833532087107706, \"comparison_vector_value\": 0, \"max_comparison_vector_value\": 4, \"bayes_factor_description\": \"If comparison level is `all other comparisons` then comparison is  7.13 times less likely to be a match\", \"probability_two_random_records_match\": 0.0033319033319033323, \"comparison_sort_order\": 1}, {\"comparison_name\": \"dob\", \"sql_condition\": \"\\\"dob_l\\\" = \\\"dob_r\\\"\", \"label_for_charts\": \"Exact match\", \"m_probability\": 0.4107935490353919, \"u_probability\": 0.0017477477477477479, \"m_probability_description\": \"Amongst matching record comparisons, 41.08% of records are in the exact match comparison level\", \"u_probability_description\": \"Amongst non-matching record comparisons, 0.17% of records are in the exact match comparison level\", \"has_tf_adjustments\": false, \"tf_adjustment_column\": null, \"tf_adjustment_weight\": 1.0, \"is_null_level\": false, \"bayes_factor\": 235.04166980890977, \"log2_bayes_factor\": 7.876772740170919, \"comparison_vector_value\": 5, \"max_comparison_vector_value\": 5, \"bayes_factor_description\": \"If comparison level is `exact match` then comparison is 235.04 times more likely to be a match\", \"probability_two_random_records_match\": 0.0033319033319033323, \"comparison_sort_order\": 2}, {\"comparison_name\": \"dob\", \"sql_condition\": \"damerau_levenshtein(\\\"dob_l\\\", \\\"dob_r\\\") <= 1\", \"label_for_charts\": \"Damerau_levenshtein <= 1\", \"m_probability\": 0.10960609103035174, \"u_probability\": 0.0016436436436436436, \"m_probability_description\": \"Amongst matching record comparisons, 10.96% of records are in the damerau_levenshtein <= 1 comparison level\", \"u_probability_description\": \"Amongst non-matching record comparisons, 0.16% of records are in the damerau_levenshtein <= 1 comparison level\", \"has_tf_adjustments\": false, \"tf_adjustment_column\": null, \"tf_adjustment_weight\": 1.0, \"is_null_level\": false, \"bayes_factor\": 66.6848263942274, \"log2_bayes_factor\": 6.059286619773073, \"comparison_vector_value\": 4, \"max_comparison_vector_value\": 5, \"bayes_factor_description\": \"If comparison level is `damerau_levenshtein <= 1` then comparison is 66.68 times more likely to be a match\", \"probability_two_random_records_match\": 0.0033319033319033323, \"comparison_sort_order\": 2}, {\"comparison_name\": \"dob\", \"sql_condition\": \"\\n            abs(date_diff('month',\\n                strptime(\\\"dob_l\\\", '%Y-%m-%d'),\\n                strptime(\\\"dob_r\\\", '%Y-%m-%d'))\\n                ) <= 1\\n        \", \"label_for_charts\": \"Within 1 month\", \"m_probability\": 0.10892292957584725, \"u_probability\": 0.003833833833833834, \"m_probability_description\": \"Amongst matching record comparisons, 10.89% of records are in the within 1 month comparison level\", \"u_probability_description\": \"Amongst non-matching record comparisons, 0.38% of records are in the within 1 month comparison level\", \"has_tf_adjustments\": false, \"tf_adjustment_column\": null, \"tf_adjustment_weight\": 1.0, \"is_null_level\": false, \"bayes_factor\": 28.410967792760154, \"log2_bayes_factor\": 4.828376071294604, \"comparison_vector_value\": 3, \"max_comparison_vector_value\": 5, \"bayes_factor_description\": \"If comparison level is `within 1 month` then comparison is 28.41 times more likely to be a match\", \"probability_two_random_records_match\": 0.0033319033319033323, \"comparison_sort_order\": 2}, {\"comparison_name\": \"dob\", \"sql_condition\": \"\\n            abs(date_diff('year',\\n                strptime(\\\"dob_l\\\", '%Y-%m-%d'),\\n                strptime(\\\"dob_r\\\", '%Y-%m-%d'))\\n                ) <= 1\\n        \", \"label_for_charts\": \"Within 1 year\", \"m_probability\": 0.17277432408408938, \"u_probability\": 0.05062662662662663, \"m_probability_description\": \"Amongst matching record comparisons, 17.28% of records are in the within 1 year comparison level\", \"u_probability_description\": \"Amongst non-matching record comparisons, 5.06% of records are in the within 1 year comparison level\", \"has_tf_adjustments\": false, \"tf_adjustment_column\": null, \"tf_adjustment_weight\": 1.0, \"is_null_level\": false, \"bayes_factor\": 3.412716501107349, \"log2_bayes_factor\": 1.7709205728211197, \"comparison_vector_value\": 2, \"max_comparison_vector_value\": 5, \"bayes_factor_description\": \"If comparison level is `within 1 year` then comparison is 3.41 times more likely to be a match\", \"probability_two_random_records_match\": 0.0033319033319033323, \"comparison_sort_order\": 2}, {\"comparison_name\": \"dob\", \"sql_condition\": \"\\n            abs(date_diff('year',\\n                strptime(\\\"dob_l\\\", '%Y-%m-%d'),\\n                strptime(\\\"dob_r\\\", '%Y-%m-%d'))\\n                ) <= 10\\n        \", \"label_for_charts\": \"Within 10 years\", \"m_probability\": 0.19441147728684566, \"u_probability\": 0.3037037037037037, \"m_probability_description\": \"Amongst matching record comparisons, 19.44% of records are in the within 10 years comparison level\", \"u_probability_description\": \"Amongst non-matching record comparisons, 30.37% of records are in the within 10 years comparison level\", \"has_tf_adjustments\": false, \"tf_adjustment_column\": null, \"tf_adjustment_weight\": 1.0, \"is_null_level\": false, \"bayes_factor\": 0.6401353520420527, \"log2_bayes_factor\": -0.6435511099716245, \"comparison_vector_value\": 1, \"max_comparison_vector_value\": 5, \"bayes_factor_description\": \"If comparison level is `within 10 years` then comparison is  1.56 times less likely to be a match\", \"probability_two_random_records_match\": 0.0033319033319033323, \"comparison_sort_order\": 2}, {\"comparison_name\": \"dob\", \"sql_condition\": \"ELSE\", \"label_for_charts\": \"All other comparisons\", \"m_probability\": 0.003491628987474115, \"u_probability\": 0.6384444444444445, \"m_probability_description\": \"Amongst matching record comparisons, 0.35% of records are in the all other comparisons comparison level\", \"u_probability_description\": \"Amongst non-matching record comparisons, 63.84% of records are in the all other comparisons comparison level\", \"has_tf_adjustments\": false, \"tf_adjustment_column\": null, \"tf_adjustment_weight\": 1.0, \"is_null_level\": false, \"bayes_factor\": 0.005468962911115043, \"log2_bayes_factor\": -7.514517006460727, \"comparison_vector_value\": 0, \"max_comparison_vector_value\": 5, \"bayes_factor_description\": \"If comparison level is `all other comparisons` then comparison is  182.85 times less likely to be a match\", \"probability_two_random_records_match\": 0.0033319033319033323, \"comparison_sort_order\": 2}, {\"comparison_name\": \"city\", \"sql_condition\": \"\\\"city_l\\\" = \\\"city_r\\\"\", \"label_for_charts\": \"Exact match\", \"m_probability\": 0.5668742431800352, \"u_probability\": 0.0551475711801453, \"m_probability_description\": \"Amongst matching record comparisons, 56.69% of records are in the exact match comparison level\", \"u_probability_description\": \"Amongst non-matching record comparisons, 5.51% of records are in the exact match comparison level\", \"has_tf_adjustments\": true, \"tf_adjustment_column\": \"city\", \"tf_adjustment_weight\": 1.0, \"is_null_level\": false, \"bayes_factor\": 10.279224108134905, \"log2_bayes_factor\": 3.361659466657376, \"comparison_vector_value\": 1, \"max_comparison_vector_value\": 1, \"bayes_factor_description\": \"If comparison level is `exact match` then comparison is 10.28 times more likely to be a match\", \"probability_two_random_records_match\": 0.0033319033319033323, \"comparison_sort_order\": 3}, {\"comparison_name\": \"city\", \"sql_condition\": \"ELSE\", \"label_for_charts\": \"All other comparisons\", \"m_probability\": 0.4331257568199648, \"u_probability\": 0.9448524288198547, \"m_probability_description\": \"Amongst matching record comparisons, 43.31% of records are in the all other comparisons comparison level\", \"u_probability_description\": \"Amongst non-matching record comparisons, 94.49% of records are in the all other comparisons comparison level\", \"has_tf_adjustments\": false, \"tf_adjustment_column\": null, \"tf_adjustment_weight\": 1.0, \"is_null_level\": false, \"bayes_factor\": 0.458405718828442, \"log2_bayes_factor\": -1.1253030523763836, \"comparison_vector_value\": 0, \"max_comparison_vector_value\": 1, \"bayes_factor_description\": \"If comparison level is `all other comparisons` then comparison is  2.18 times less likely to be a match\", \"probability_two_random_records_match\": 0.0033319033319033323, \"comparison_sort_order\": 3}, {\"comparison_name\": \"email\", \"sql_condition\": \"\\\"email_l\\\" = \\\"email_r\\\"\", \"label_for_charts\": \"3. Exact match email\", \"m_probability\": 0.5585637865994514, \"u_probability\": 0.0021938713143283602, \"m_probability_description\": \"Amongst matching record comparisons, 55.86% of records are in the exact match email comparison level\", \"u_probability_description\": \"Amongst non-matching record comparisons, 0.22% of records are in the exact match email comparison level\", \"has_tf_adjustments\": false, \"tf_adjustment_column\": null, \"tf_adjustment_weight\": 1.0, \"is_null_level\": false, \"bayes_factor\": 254.60189162027132, \"log2_bayes_factor\": 7.99209932787121, \"comparison_vector_value\": 3, \"max_comparison_vector_value\": 3, \"bayes_factor_description\": \"If comparison level is `exact match email` then comparison is 254.60 times more likely to be a match\", \"probability_two_random_records_match\": 0.0033319033319033323, \"comparison_sort_order\": 4}, {\"comparison_name\": \"email\", \"sql_condition\": \"\\n        regexp_extract(\\\"email_l\\\", '^[^@]+')\\n     = \\n        regexp_extract(\\\"email_r\\\", '^[^@]+')\\n    \", \"label_for_charts\": \"2. Exact match email\", \"m_probability\": 0.22385632642774794, \"u_probability\": 0.0010390328952024346, \"m_probability_description\": \"Amongst matching record comparisons, 22.39% of records are in the exact match email comparison level\", \"u_probability_description\": \"Amongst non-matching record comparisons, 0.10% of records are in the exact match email comparison level\", \"has_tf_adjustments\": false, \"tf_adjustment_column\": null, \"tf_adjustment_weight\": 1.0, \"is_null_level\": false, \"bayes_factor\": 215.44681353340027, \"log2_bayes_factor\": 7.751187950866061, \"comparison_vector_value\": 2, \"max_comparison_vector_value\": 3, \"bayes_factor_description\": \"If comparison level is `exact match email` then comparison is 215.45 times more likely to be a match\", \"probability_two_random_records_match\": 0.0033319033319033323, \"comparison_sort_order\": 4}, {\"comparison_name\": \"email\", \"sql_condition\": \"jaro_winkler_similarity(\\\"email_l\\\", \\\"email_r\\\") >= 0.88\", \"label_for_charts\": \"1. Jaro_winkler_similarity email >= 0.88\", \"m_probability\": 0.20839192084148345, \"u_probability\": 0.0009135769109519858, \"m_probability_description\": \"Amongst matching record comparisons, 20.84% of records are in the jaro_winkler_similarity email >= 0.88 comparison level\", \"u_probability_description\": \"Amongst non-matching record comparisons, 0.09% of records are in the jaro_winkler_similarity email >= 0.88 comparison level\", \"has_tf_adjustments\": false, \"tf_adjustment_column\": null, \"tf_adjustment_weight\": 1.0, \"is_null_level\": false, \"bayes_factor\": 228.10550304334012, \"log2_bayes_factor\": 7.83355744185033, \"comparison_vector_value\": 1, \"max_comparison_vector_value\": 3, \"bayes_factor_description\": \"If comparison level is `jaro_winkler_similarity email >= 0.88` then comparison is 228.11 times more likely to be a match\", \"probability_two_random_records_match\": 0.0033319033319033323, \"comparison_sort_order\": 4}, {\"comparison_name\": \"email\", \"sql_condition\": \"ELSE\", \"label_for_charts\": \"0. All other comparisons\", \"m_probability\": 0.009187966131317171, \"u_probability\": 0.9958535188795172, \"m_probability_description\": \"Amongst matching record comparisons, 0.92% of records are in the all other comparisons comparison level\", \"u_probability_description\": \"Amongst non-matching record comparisons, 99.59% of records are in the all other comparisons comparison level\", \"has_tf_adjustments\": false, \"tf_adjustment_column\": null, \"tf_adjustment_weight\": 1.0, \"is_null_level\": false, \"bayes_factor\": 0.009226222488679856, \"log2_bayes_factor\": -6.760044201510109, \"comparison_vector_value\": 0, \"max_comparison_vector_value\": 3, \"bayes_factor_description\": \"If comparison level is `all other comparisons` then comparison is  108.39 times less likely to be a match\", \"probability_two_random_records_match\": 0.0033319033319033323, \"comparison_sort_order\": 4}]}}, {\"mode\": \"vega-lite\"});\n",
                            "</script>"
                        ],
                        "text/plain": [
                            "alt.VConcatChart(...)"
                        ]
                    },
                    "execution_count": 9,
                    "metadata": {},
                    "output_type": "execute_result"
                }
            ],
            "source": [
                "linker.match_weights_chart()"
            ]
        }
    ],
    "metadata": {
        "kernelspec": {
            "display_name": "Python 3 (ipykernel)",
            "language": "python",
            "name": "python3"
        },
        "language_info": {
            "codemirror_mode": {
                "name": "ipython",
                "version": 3
            },
            "file_extension": ".py",
            "mimetype": "text/x-python",
            "name": "python",
            "nbconvert_exporter": "python",
            "pygments_lexer": "ipython3",
            "version": "3.9.12"
        }
    },
    "nbformat": 4,
    "nbformat_minor": 4
}